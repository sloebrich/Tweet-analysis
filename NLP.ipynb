{
 "cells": [
  {
   "cell_type": "markdown",
   "metadata": {},
   "source": [
    "# NLP Project"
   ]
  },
  {
   "cell_type": "markdown",
   "metadata": {},
   "source": [
    "Kaggle competition \"Real or Not? NLP with Disaster Tweets\". We'll use the (leaked) test labels only to evaluate our model in the end.  \n",
    "First we import some standard packages and read the data."
   ]
  },
  {
   "cell_type": "code",
   "execution_count": 76,
   "metadata": {},
   "outputs": [],
   "source": [
    "import numpy as np \n",
    "import pandas as pd \n",
    "import seaborn as sns\n",
    "import matplotlib.pyplot as plt\n",
    "%matplotlib inline"
   ]
  },
  {
   "cell_type": "code",
   "execution_count": 77,
   "metadata": {},
   "outputs": [],
   "source": [
    "train = pd.read_csv(\"train.csv\", index_col='id')\n",
    "test = pd.read_csv(\"test.csv\", index_col='id')"
   ]
  },
  {
   "cell_type": "markdown",
   "metadata": {},
   "source": [
    "The training data is roughly balanced."
   ]
  },
  {
   "cell_type": "code",
   "execution_count": 78,
   "metadata": {},
   "outputs": [
    {
     "data": {
      "image/png": "[encoded data removed]",
      "text/plain": [
       "<Figure size 504x288 with 1 Axes>"
      ]
     },
     "metadata": {
      "needs_background": "light"
     },
     "output_type": "display_data"
    }
   ],
   "source": [
    "plt.figure(figsize=(7,4))\n",
    "sns.countplot(x=train.target)\n",
    "plt.xticks([0,1], ['harmless', 'disaster']);"
   ]
  },
  {
   "cell_type": "markdown",
   "metadata": {},
   "source": [
    "Let's check for null entries:"
   ]
  },
  {
   "cell_type": "code",
   "execution_count": 79,
   "metadata": {},
   "outputs": [
    {
     "name": "stdout",
     "output_type": "stream",
     "text": [
      "<class 'pandas.core.frame.DataFrame'>\n",
      "Int64Index: 7613 entries, 1 to 10873\n",
      "Data columns (total 4 columns):\n",
      "keyword     7552 non-null object\n",
      "location    5080 non-null object\n",
      "text        7613 non-null object\n",
      "target      7613 non-null int64\n",
      "dtypes: int64(1), object(3)\n",
      "memory usage: 617.4+ KB\n",
      "<class 'pandas.core.frame.DataFrame'>\n",
      "Int64Index: 3263 entries, 0 to 10875\n",
      "Data columns (total 4 columns):\n",
      "keyword     3237 non-null object\n",
      "location    2158 non-null object\n",
      "text        3263 non-null object\n",
      "target      3263 non-null int64\n",
      "dtypes: int64(1), object(3)\n",
      "memory usage: 127.5+ KB\n"
     ]
    }
   ],
   "source": [
    "train.info(), test.info();"
   ]
  },
  {
   "cell_type": "markdown",
   "metadata": {},
   "source": [
    "The location column has a lot of null entries, so we're not going to use it. To preprocess the text data, we can do the following:\n",
    "- add the keyword as first word of the text\n",
    "- remove all urls by dropping everything that starts with 'http'\n",
    "- replace '%20' by blank and '&amp' by 'and'\n",
    "- drop all non-alphabetic characters like numbers and punctuation\n",
    "- use a tweet tokenizer to drop #-handles, convert to lowercase, and reduce to at most three identitcal letters in a row\n",
    "- stem and remove stopwords\n",
    "\n",
    "All of the above is done by the function clean(data). After cleaning, a few tweets will become identical, so we drop duplicates. "
   ]
  },
  {
   "cell_type": "code",
   "execution_count": 80,
   "metadata": {},
   "outputs": [],
   "source": [
    "from nltk.corpus import stopwords\n",
    "from nltk.stem import PorterStemmer\n",
    "\n",
    "stopwords = stopwords.words('english')\n",
    "ps = PorterStemmer()\n",
    "\n",
    "def clean(data):\n",
    "    df=data.copy()\n",
    "    df['keyword'].fillna('', inplace=True)\n",
    "    df['keyword'] = df['keyword'].str.replace('%20', ' ')\n",
    "    df['text'] = df['keyword']+' '+df['text']\n",
    "    df['text'] = df['text'].str.replace(r'http\\S+', ' ')\n",
    "    df['text'] = df['text'].str.replace('&amp', ' and ')\n",
    "    df['text'] = df['text'].str.replace(r'[^a-zA-Z]', ' ')\n",
    "    df['text'] = df['text'].str.lower()\n",
    "    df['text'] = df['text'].apply(lambda x: ' '.join([word for word in x.split() if word not in stopwords]))\n",
    "    df['text'] = df['text'].apply(lambda x: ' '.join([ps.stem(word) for word in x.split()]))\n",
    "    return df\n",
    "\n",
    "df=clean(train)\n",
    "df = df.drop_duplicates(subset='text')\n",
    "X = df['text']\n",
    "y = df['target']\n",
    "\n",
    "X_test = clean(test)['text']\n",
    "y_test = test['target']"
   ]
  },
  {
   "cell_type": "markdown",
   "metadata": {},
   "source": [
    "Now the tweets look like this: "
   ]
  },
  {
   "cell_type": "code",
   "execution_count": 93,
   "metadata": {},
   "outputs": [
    {
     "data": {
      "text/plain": [
       "id\n",
       "1                deed reason earthquak may allah forgiv us\n",
       "4                     forest fire near la rong sask canada\n",
       "5        resid ask shelter place notifi offic evacu she...\n",
       "6              peopl receiv wildfir evacu order california\n",
       "7        got sent photo rubi alaska smoke wildfir pour ...\n",
       "                               ...                        \n",
       "10869       two giant crane hold bridg collaps nearbi home\n",
       "10870    aria ahrari thetawniest control wild fire cali...\n",
       "10871                                utc km volcano hawaii\n",
       "10872    polic investig e bike collid car littl portug ...\n",
       "10873    latest home raze northern california wildfir a...\n",
       "Name: text, Length: 6870, dtype: object"
      ]
     },
     "execution_count": 93,
     "metadata": {},
     "output_type": "execute_result"
    }
   ],
   "source": [
    "X"
   ]
  },
  {
   "cell_type": "markdown",
   "metadata": {},
   "source": [
    "Next we'd like to keep track of word appearances. For this, we count how often a word occurs in a harmless or disastrous tweet and store the count in a new dataframe wordcount. \n",
    "\n"
   ]
  },
  {
   "cell_type": "code",
   "execution_count": 82,
   "metadata": {},
   "outputs": [],
   "source": [
    "from collections import defaultdict\n",
    "\n",
    "freq_dict_1 = defaultdict(int)\n",
    "for row in df['text'][df['target']==1]:\n",
    "    for word in row.split():\n",
    "        freq_dict_1[word] += 1\n",
    "        \n",
    "freq_dict_0 = defaultdict(int)\n",
    "for row in df['text'][df['target']==0]:\n",
    "    for word in row.split():\n",
    "        freq_dict_0[word] += 1 \n",
    "        \n",
    "vocabulary = set(freq_dict_0.keys()).union(set(freq_dict_1.keys()))\n",
    "\n",
    "wordcount = pd.DataFrame(list(vocabulary), columns= [\"word\"])\n",
    "wordcount['disaster'] = wordcount['word'].apply(lambda x: freq_dict_1[x])\n",
    "wordcount['harmless'] = wordcount['word'].apply(lambda x: freq_dict_0[x])\n",
    "wordcount['total_count'] = wordcount['disaster']+wordcount['harmless']\n",
    "wordcount.sort_values(by='total_count', ascending=False, inplace=True)\n",
    "wordcount.set_index('word', inplace=True)\n"
   ]
  },
  {
   "cell_type": "code",
   "execution_count": 83,
   "metadata": {},
   "outputs": [
    {
     "data": {
      "text/html": [
       "<div>\n",
       "<style scoped>\n",
       "    .dataframe tbody tr th:only-of-type {\n",
       "        vertical-align: middle;\n",
       "    }\n",
       "\n",
       "    .dataframe tbody tr th {\n",
       "        vertical-align: top;\n",
       "    }\n",
       "\n",
       "    .dataframe thead th {\n",
       "        text-align: right;\n",
       "    }\n",
       "</style>\n",
       "<table border=\"1\" class=\"dataframe\">\n",
       "  <thead>\n",
       "    <tr style=\"text-align: right;\">\n",
       "      <th></th>\n",
       "      <th>disaster</th>\n",
       "      <th>harmless</th>\n",
       "      <th>total_count</th>\n",
       "    </tr>\n",
       "    <tr>\n",
       "      <th>word</th>\n",
       "      <th></th>\n",
       "      <th></th>\n",
       "      <th></th>\n",
       "    </tr>\n",
       "  </thead>\n",
       "  <tbody>\n",
       "    <tr>\n",
       "      <th>fire</th>\n",
       "      <td>402</td>\n",
       "      <td>141</td>\n",
       "      <td>543</td>\n",
       "    </tr>\n",
       "    <tr>\n",
       "      <th>like</th>\n",
       "      <td>100</td>\n",
       "      <td>298</td>\n",
       "      <td>398</td>\n",
       "    </tr>\n",
       "    <tr>\n",
       "      <th>bomb</th>\n",
       "      <td>242</td>\n",
       "      <td>96</td>\n",
       "      <td>338</td>\n",
       "    </tr>\n",
       "    <tr>\n",
       "      <th>burn</th>\n",
       "      <td>147</td>\n",
       "      <td>169</td>\n",
       "      <td>316</td>\n",
       "    </tr>\n",
       "    <tr>\n",
       "      <th>emerg</th>\n",
       "      <td>143</td>\n",
       "      <td>159</td>\n",
       "      <td>302</td>\n",
       "    </tr>\n",
       "    <tr>\n",
       "      <th>...</th>\n",
       "      <td>...</td>\n",
       "      <td>...</td>\n",
       "      <td>...</td>\n",
       "    </tr>\n",
       "    <tr>\n",
       "      <th>etern</th>\n",
       "      <td>0</td>\n",
       "      <td>1</td>\n",
       "      <td>1</td>\n",
       "    </tr>\n",
       "    <tr>\n",
       "      <th>crackedgem</th>\n",
       "      <td>0</td>\n",
       "      <td>1</td>\n",
       "      <td>1</td>\n",
       "    </tr>\n",
       "    <tr>\n",
       "      <th>johnfugelsang</th>\n",
       "      <td>1</td>\n",
       "      <td>0</td>\n",
       "      <td>1</td>\n",
       "    </tr>\n",
       "    <tr>\n",
       "      <th>junko</th>\n",
       "      <td>1</td>\n",
       "      <td>0</td>\n",
       "      <td>1</td>\n",
       "    </tr>\n",
       "    <tr>\n",
       "      <th>gerryconnolli</th>\n",
       "      <td>1</td>\n",
       "      <td>0</td>\n",
       "      <td>1</td>\n",
       "    </tr>\n",
       "  </tbody>\n",
       "</table>\n",
       "<p>13064 rows × 3 columns</p>\n",
       "</div>"
      ],
      "text/plain": [
       "               disaster  harmless  total_count\n",
       "word                                          \n",
       "fire                402       141          543\n",
       "like                100       298          398\n",
       "bomb                242        96          338\n",
       "burn                147       169          316\n",
       "emerg               143       159          302\n",
       "...                 ...       ...          ...\n",
       "etern                 0         1            1\n",
       "crackedgem            0         1            1\n",
       "johnfugelsang         1         0            1\n",
       "junko                 1         0            1\n",
       "gerryconnolli         1         0            1\n",
       "\n",
       "[13064 rows x 3 columns]"
      ]
     },
     "execution_count": 83,
     "metadata": {},
     "output_type": "execute_result"
    }
   ],
   "source": [
    "wordcount"
   ]
  },
  {
   "cell_type": "markdown",
   "metadata": {},
   "source": [
    "Let's see what the most frequent words in harmless vs. disaster tweets are."
   ]
  },
  {
   "cell_type": "code",
   "execution_count": 84,
   "metadata": {},
   "outputs": [
    {
     "data": {
      "image/png": "[encoded data removed]",
      "text/plain": [
       "<Figure size 936x576 with 1 Axes>"
      ]
     },
     "metadata": {
      "needs_background": "light"
     },
     "output_type": "display_data"
    }
   ],
   "source": [
    "plt.figure(figsize=(13,8))\n",
    "sns.barplot(x=wordcount['disaster'].sort_values(ascending=False).iloc[:30], y=wordcount.sort_values(by='disaster', ascending=False).index[:30])\n",
    "plt.xlabel('Count')\n",
    "plt.ylabel('Word')\n",
    "plt.title('30 most common words in disaster tweets');"
   ]
  },
  {
   "cell_type": "code",
   "execution_count": 85,
   "metadata": {},
   "outputs": [
    {
     "data": {
      "image/png": "[encoded data removed]",
      "text/plain": [
       "<Figure size 936x576 with 1 Axes>"
      ]
     },
     "metadata": {
      "needs_background": "light"
     },
     "output_type": "display_data"
    }
   ],
   "source": [
    "plt.figure(figsize=(13,8))\n",
    "sns.barplot(x=wordcount['harmless'].sort_values(ascending=False).iloc[:30], y=wordcount.sort_values(by='harmless', ascending=False).index[:30])\n",
    "plt.xlabel('Count')\n",
    "plt.ylabel('Word')\n",
    "plt.title('30 most common words in harmless tweets');"
   ]
  },
  {
   "cell_type": "markdown",
   "metadata": {},
   "source": [
    "Then we remove all words that occur less than 5 times in total from the tweets. Some tweets will become empty strings, so we drop these from X and y and update the vocabulary."
   ]
  },
  {
   "cell_type": "code",
   "execution_count": 7,
   "metadata": {},
   "outputs": [],
   "source": [
    "minimal_occurrences = 10\n",
    "X=X.apply(lambda x: ' '.join([word for word in x.split() if wordcount['total_count'][word]>=minimal_occurrences]))\n",
    "X=X[X.str.split().apply(len)>0]\n",
    "y=y[X.index]\n",
    "wordcount = wordcount[wordcount['total_count']>=minimal_occurrences]\n",
    "new_vocabulary = set(wordcount.index)\n"
   ]
  },
  {
   "cell_type": "markdown",
   "metadata": {},
   "source": [
    "Let's see how many words we've dropped."
   ]
  },
  {
   "cell_type": "code",
   "execution_count": 8,
   "metadata": {},
   "outputs": [
    {
     "name": "stdout",
     "output_type": "stream",
     "text": [
      "Length of old vocabulary: 16068\n",
      "Length of new vocabulary: 1285\n"
     ]
    }
   ],
   "source": [
    "print('Length of old vocabulary: {}'.format(len(vocabulary)))\n",
    "print('Length of new vocabulary: {}'.format(len(new_vocabulary)))"
   ]
  },
  {
   "cell_type": "markdown",
   "metadata": {},
   "source": [
    "It's time to vectorize. We first use the count vectorizer, which encodes each tweet as a vector, where the entry at each word is the number of occurrences of this word in the tweet. We can do the same for the tf-idf (term frequency * inverse document frequency) vectorizer, which normalizes the counts by the total number of tweets in which the word occurs. \n",
    "\n",
    "We can also adjust the n-gram range to include entries for tuples of words. For example, ngram_range=(1,2) considers words and pairs of words."
   ]
  },
  {
   "cell_type": "code",
   "execution_count": 86,
   "metadata": {},
   "outputs": [],
   "source": [
    "from sklearn.feature_extraction.text import TfidfVectorizer\n",
    "from sklearn.feature_extraction.text import CountVectorizer\n",
    "\n",
    "\n",
    "vectorizer = CountVectorizer(ngram_range=(1,2))\n",
    "#vectorizer = TfidfVectorizer(ngram_range=(1,1))\n",
    "\n",
    "train_vectors = vectorizer.fit_transform(X)\n",
    "test_vectors = vectorizer.transform(X_test)"
   ]
  },
  {
   "cell_type": "markdown",
   "metadata": {},
   "source": [
    "Now we split the data into a train and validation set. Since the vectors are sparse matrices, we won't apply scaling. "
   ]
  },
  {
   "cell_type": "code",
   "execution_count": 87,
   "metadata": {},
   "outputs": [],
   "source": [
    "from sklearn.model_selection import train_test_split\n",
    "\n",
    "X_train, X_val, y_train, y_val = train_test_split(train_vectors, y, test_size=0.2, shuffle=True, stratify=y)"
   ]
  },
  {
   "cell_type": "markdown",
   "metadata": {},
   "source": [
    "Having vectorized the tweets, we can project the vectors down to two dimensions using singular value decomposition (SVD). \n",
    "We plot the two-dimensional projections of harmless tweets as yellow dots and of disaster tweets as red dots. Unfortunately (or expectedly), the red and yellow dots don't seem to be well separated.  "
   ]
  },
  {
   "cell_type": "code",
   "execution_count": 88,
   "metadata": {},
   "outputs": [
    {
     "data": {
      "image/png": "[encoded data removed]",
      "text/plain": [
       "<Figure size 936x576 with 1 Axes>"
      ]
     },
     "metadata": {
      "needs_background": "light"
     },
     "output_type": "display_data"
    }
   ],
   "source": [
    "from sklearn.decomposition import TruncatedSVD\n",
    "import matplotlib.patches as mpatches\n",
    "\n",
    "plt.figure(figsize=(13,8))\n",
    "svd = TruncatedSVD(n_components=2)\n",
    "projected_train_vectors = svd.fit_transform(train_vectors)\n",
    "sns.scatterplot(x=projected_train_vectors[:,0], y=projected_train_vectors[:,1], hue=y, palette={0:'yellow', 1:'red'}, legend=False)\n",
    "red_patch = mpatches.Patch(color='red', label='Disaster tweets')\n",
    "yellow_patch = mpatches.Patch(color='yellow', label='Harmless tweets')\n",
    "plt.legend(handles=[red_patch, yellow_patch])\n",
    "plt.title('2D-projections of vectorized tweets');"
   ]
  },
  {
   "cell_type": "markdown",
   "metadata": {},
   "source": [
    "Now we test several classifiers and see which one performs best.  We do a grid search to tweak some hyperparameters. Performance in the competition is evaluated by F1-score."
   ]
  },
  {
   "cell_type": "code",
   "execution_count": 89,
   "metadata": {},
   "outputs": [
    {
     "name": "stdout",
     "output_type": "stream",
     "text": [
      "Parameters of best k-nearest neighbors classifier: {'n_neighbors': 3, 'weights': 'distance'}\n",
      "F1-score on training set: 0.9997786141244188\n",
      "F1-score on validation set: 0.49118387909319894\n"
     ]
    },
    {
     "name": "stderr",
     "output_type": "stream",
     "text": [
      "C:\\Users\\steff\\Anaconda3\\lib\\site-packages\\sklearn\\metrics\\classification.py:1437: UndefinedMetricWarning: F-score is ill-defined and being set to 0.0 due to no predicted samples.\n",
      "  'precision', 'predicted', average, warn_for)\n",
      "C:\\Users\\steff\\Anaconda3\\lib\\site-packages\\sklearn\\metrics\\classification.py:1437: UndefinedMetricWarning: F-score is ill-defined and being set to 0.0 due to no predicted samples.\n",
      "  'precision', 'predicted', average, warn_for)\n"
     ]
    },
    {
     "name": "stdout",
     "output_type": "stream",
     "text": [
      "Parameters of best random forest classifier: {'min_samples_leaf': 5, 'n_estimators': 50}\n",
      "F1-score on training set: 0.6149271483794232\n",
      "F1-score on validation set: 0.5412054120541205\n",
      "Parameters of best stochastic gradient descent classifier: {'eta0': 0.005, 'learning_rate': 'optimal', 'loss': 'log', 'penalty': 'l2'}\n",
      "F1-score on training set: 0.9982293050022134\n",
      "F1-score on validation set: 0.7444976076555024\n"
     ]
    }
   ],
   "source": [
    "from sklearn.linear_model import SGDClassifier,LogisticRegression\n",
    "from sklearn.neighbors import KNeighborsClassifier\n",
    "from sklearn.ensemble import RandomForestClassifier\n",
    "from sklearn.model_selection import GridSearchCV\n",
    "from sklearn.metrics import f1_score, make_scorer\n",
    "\n",
    "models = {'k-nearest neighbors': KNeighborsClassifier(), 'random forest':RandomForestClassifier(), 'stochastic gradient descent': SGDClassifier()}\n",
    "\n",
    "model_parameters = {\n",
    "'k-nearest neighbors': {'n_neighbors': [3,5,7], \n",
    "                         'weights': ['uniform', 'distance']},\n",
    " 'random forest': {'n_estimators':[50, 100], \n",
    "                    'min_samples_leaf': [5,10]}, \n",
    "'stochastic gradient descent' : {'loss': ['hinge', 'log', 'perceptron'], \n",
    "                   'penalty': ['l1', 'l2'], \n",
    "                   'learning_rate': ['constant', 'optimal', 'adaptive'],\n",
    "                  'eta0': [0.005, 0.01]}\n",
    "}\n",
    "\n",
    "f1_scorer = make_scorer(f1_score)\n",
    "max_score = 0\n",
    "\n",
    "\n",
    "for model in models.keys():\n",
    "    grid_search = GridSearchCV(models[model], model_parameters[model], scoring=f1_scorer, verbose=0, cv=5)\n",
    "    grid_search.fit(X_train, y_train)\n",
    "    clf = grid_search.best_estimator_\n",
    "    training_score = f1_score(y_train, clf.predict(X_train))\n",
    "    y_pred = clf.predict(X_val)\n",
    "    validation_score = f1_score(y_pred, y_val)\n",
    "    if validation_score > max_score:\n",
    "        best_clf = clf\n",
    "        max_score = validation_score\n",
    "    print('Parameters of best {} classifier: {}'.format(model, grid_search.best_params_))    \n",
    "    print('F1-score on training set: {}'.format(training_score ))\n",
    "    print('F1-score on validation set: {}'.format(validation_score))"
   ]
  },
  {
   "cell_type": "markdown",
   "metadata": {},
   "source": [
    "The kNN classifier is overfitting and logistic regression seems to do better than random forests. Let's take a look at the best classifier:"
   ]
  },
  {
   "cell_type": "code",
   "execution_count": 90,
   "metadata": {},
   "outputs": [
    {
     "data": {
      "text/plain": [
       "SGDClassifier(alpha=0.0001, average=False, class_weight=None,\n",
       "              early_stopping=False, epsilon=0.1, eta0=0.005, fit_intercept=True,\n",
       "              l1_ratio=0.15, learning_rate='optimal', loss='log', max_iter=1000,\n",
       "              n_iter_no_change=5, n_jobs=None, penalty='l2', power_t=0.5,\n",
       "              random_state=None, shuffle=True, tol=0.001,\n",
       "              validation_fraction=0.1, verbose=0, warm_start=False)"
      ]
     },
     "execution_count": 90,
     "metadata": {},
     "output_type": "execute_result"
    }
   ],
   "source": [
    "best_clf"
   ]
  },
  {
   "cell_type": "markdown",
   "metadata": {},
   "source": [
    "Finally, let's see how well the model performs on the test set."
   ]
  },
  {
   "cell_type": "code",
   "execution_count": 92,
   "metadata": {},
   "outputs": [
    {
     "name": "stdout",
     "output_type": "stream",
     "text": [
      "F1-score: 73.27%\n",
      "Accuracy score: 78.98%\n"
     ]
    }
   ],
   "source": [
    "from sklearn.metrics import accuracy_score\n",
    "\n",
    "y_pred = best_clf.predict(test_vectors)\n",
    "print('F1-score: {}%'.format(round(100*f1_score(y_test, y_pred),2)))\n",
    "print('Accuracy score: {}%'.format(round(100*accuracy_score(y_test, y_pred),2)))\n"
   ]
  },
  {
   "cell_type": "code",
   "execution_count": null,
   "metadata": {},
   "outputs": [],
   "source": []
  }
 ],
 "metadata": {
  "kernelspec": {
   "display_name": "Python 3",
   "language": "python",
   "name": "python3"
  },
  "language_info": {
   "codemirror_mode": {
    "name": "ipython",
    "version": 3
   },
   "file_extension": ".py",
   "mimetype": "text/x-python",
   "name": "python",
   "nbconvert_exporter": "python",
   "pygments_lexer": "ipython3",
   "version": "3.7.5"
  }
 },
 "nbformat": 4,
 "nbformat_minor": 2
}
