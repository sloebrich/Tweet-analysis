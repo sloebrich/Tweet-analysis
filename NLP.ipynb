{
 "cells": [
  {
   "cell_type": "markdown",
   "metadata": {},
   "source": [
    "# NLP with disaster tweets"
   ]
  },
  {
   "cell_type": "markdown",
   "metadata": {},
   "source": [
    "This notebook is based on the Kaggle competition \"Real or Not? NLP with Disaster Tweets\" (https://www.kaggle.com/c/nlp-getting-started). We'll use the test labels only to evaluate our model in the end.  \n",
    "\n",
    "First we import some standard packages and have a look at the data."
   ]
  },
  {
   "cell_type": "code",
   "execution_count": 1,
   "metadata": {},
   "outputs": [],
   "source": [
    "import numpy as np \n",
    "import pandas as pd \n",
    "import seaborn as sns\n",
    "import matplotlib.pyplot as plt\n",
    "%matplotlib inline\n",
    "import warnings\n",
    "warnings.filterwarnings('ignore')"
   ]
  },
  {
   "cell_type": "code",
   "execution_count": 2,
   "metadata": {},
   "outputs": [],
   "source": [
    "train = pd.read_csv(\"train.csv\", index_col='id')\n",
    "test = pd.read_csv(\"test.csv\", index_col='id')"
   ]
  },
  {
   "cell_type": "code",
   "execution_count": 3,
   "metadata": {},
   "outputs": [
    {
     "data": {
      "text/html": [
       "<div>\n",
       "<style scoped>\n",
       "    .dataframe tbody tr th:only-of-type {\n",
       "        vertical-align: middle;\n",
       "    }\n",
       "\n",
       "    .dataframe tbody tr th {\n",
       "        vertical-align: top;\n",
       "    }\n",
       "\n",
       "    .dataframe thead th {\n",
       "        text-align: right;\n",
       "    }\n",
       "</style>\n",
       "<table border=\"1\" class=\"dataframe\">\n",
       "  <thead>\n",
       "    <tr style=\"text-align: right;\">\n",
       "      <th></th>\n",
       "      <th>keyword</th>\n",
       "      <th>location</th>\n",
       "      <th>text</th>\n",
       "      <th>target</th>\n",
       "    </tr>\n",
       "    <tr>\n",
       "      <th>id</th>\n",
       "      <th></th>\n",
       "      <th></th>\n",
       "      <th></th>\n",
       "      <th></th>\n",
       "    </tr>\n",
       "  </thead>\n",
       "  <tbody>\n",
       "    <tr>\n",
       "      <th>1</th>\n",
       "      <td>NaN</td>\n",
       "      <td>NaN</td>\n",
       "      <td>Our Deeds are the Reason of this #earthquake M...</td>\n",
       "      <td>1</td>\n",
       "    </tr>\n",
       "    <tr>\n",
       "      <th>4</th>\n",
       "      <td>NaN</td>\n",
       "      <td>NaN</td>\n",
       "      <td>Forest fire near La Ronge Sask. Canada</td>\n",
       "      <td>1</td>\n",
       "    </tr>\n",
       "    <tr>\n",
       "      <th>5</th>\n",
       "      <td>NaN</td>\n",
       "      <td>NaN</td>\n",
       "      <td>All residents asked to 'shelter in place' are ...</td>\n",
       "      <td>1</td>\n",
       "    </tr>\n",
       "    <tr>\n",
       "      <th>6</th>\n",
       "      <td>NaN</td>\n",
       "      <td>NaN</td>\n",
       "      <td>13,000 people receive #wildfires evacuation or...</td>\n",
       "      <td>1</td>\n",
       "    </tr>\n",
       "    <tr>\n",
       "      <th>7</th>\n",
       "      <td>NaN</td>\n",
       "      <td>NaN</td>\n",
       "      <td>Just got sent this photo from Ruby #Alaska as ...</td>\n",
       "      <td>1</td>\n",
       "    </tr>\n",
       "  </tbody>\n",
       "</table>\n",
       "</div>"
      ],
      "text/plain": [
       "   keyword location                                               text  target\n",
       "id                                                                            \n",
       "1      NaN      NaN  Our Deeds are the Reason of this #earthquake M...       1\n",
       "4      NaN      NaN             Forest fire near La Ronge Sask. Canada       1\n",
       "5      NaN      NaN  All residents asked to 'shelter in place' are ...       1\n",
       "6      NaN      NaN  13,000 people receive #wildfires evacuation or...       1\n",
       "7      NaN      NaN  Just got sent this photo from Ruby #Alaska as ...       1"
      ]
     },
     "execution_count": 3,
     "metadata": {},
     "output_type": "execute_result"
    }
   ],
   "source": [
    "train.head()"
   ]
  },
  {
   "cell_type": "markdown",
   "metadata": {},
   "source": [
    "The training data seems roughly balanced with a preference for harmless tweets."
   ]
  },
  {
   "cell_type": "code",
   "execution_count": 4,
   "metadata": {},
   "outputs": [
    {
     "data": {
      "image/png": "[encoded data removed]",
      "text/plain": [
       "<Figure size 504x288 with 1 Axes>"
      ]
     },
     "metadata": {
      "needs_background": "light"
     },
     "output_type": "display_data"
    }
   ],
   "source": [
    "plt.figure(figsize=(7,4))\n",
    "sns.countplot(x=train.target)\n",
    "plt.xticks([0,1], ['harmless', 'disaster']);"
   ]
  },
  {
   "cell_type": "markdown",
   "metadata": {},
   "source": [
    "Let's check for null entries:"
   ]
  },
  {
   "cell_type": "code",
   "execution_count": 5,
   "metadata": {},
   "outputs": [
    {
     "name": "stdout",
     "output_type": "stream",
     "text": [
      "0.8% in the column \"keyword\" of the training data are null entries.\n",
      "33.27% in the column \"location\" of the training data are null entries.\n",
      "0.0% in the column \"text\" of the training data are null entries.\n",
      "0.0% in the column \"target\" of the training data are null entries.\n",
      "0.8% in the column \"keyword\" of the test data are null entries.\n",
      "33.86% in the column \"location\" of the test data are null entries.\n",
      "0.0% in the column \"text\" of the test data are null entries.\n",
      "0.0% in the column \"target\" of the test data are null entries.\n"
     ]
    }
   ],
   "source": [
    "for df, name in [(train, 'training'),  (test, 'test')]:\n",
    "    for col in df.columns:\n",
    "        p = round(100*df[col][df[col].isna()].shape[0]/df.shape[0],2)\n",
    "        print('{}% in the column \"{}\" of the {} data are null entries.'.format(p, col, name))"
   ]
  },
  {
   "cell_type": "markdown",
   "metadata": {},
   "source": [
    "About one third of location column has null entries. \n",
    "\n",
    "We suppose that the \"text\" column contains the most relevant information. However, we can also make use of the other columns by simply adding keyword and location to the tweet text. Later we transform these extended texts into word vectors.  \n",
    "\n",
    "To preprocess the text data, we do the following:\n",
    "- add keyword and location the text\n",
    "- remove url text by dropping all expressions that start with 'http'\n",
    "- replace '%20' by whitespace and '&amp' by 'and'\n",
    "- drop all digits and punctuation characters. \n",
    "- remove stopwords\n",
    "- apply a stemmer to identify word with the same root (i.e. \"fire\" and \"fires\"). A commonly used stemming algorithm is the Porter stemmer.\n",
    "\n",
    "All of the above is done by the function clean(data). After cleaning, a few tweets will become identical, so we drop duplicates from the training data. "
   ]
  },
  {
   "cell_type": "code",
   "execution_count": 6,
   "metadata": {},
   "outputs": [],
   "source": [
    "from nltk.corpus import stopwords\n",
    "from nltk.stem import PorterStemmer\n",
    "\n",
    "stopwords = stopwords.words('english')\n",
    "ps = PorterStemmer()\n",
    "\n",
    "def clean(data):\n",
    "    df=data.copy()\n",
    "    #fill null entries with empty strings\n",
    "    df['keyword'].fillna('', inplace=True)\n",
    "    df['location'].fillna('', inplace=True)\n",
    "    #add keyword and location columns to the text string\n",
    "    df['text'] = df['keyword'] + ' ' + df['location'] + ' ' + df['text']\n",
    "    #replace url texts and other strings\n",
    "    df['text'] = df['text'].str.replace(r'http\\S+', ' ')\n",
    "    df['text'] = df['text'].str.replace('%20', ' ')\n",
    "    df['text'] = df['text'].str.replace('&amp', ' and ')\n",
    "    #remove digits and punctuation\n",
    "    df['text'] = df['text'].str.replace(r'[^a-zA-Z]', ' ')\n",
    "    #convert everything to lowercase\n",
    "    df['text'] = df['text'].str.lower()\n",
    "    #remove stopwords\n",
    "    df['text'] = df['text'].apply(lambda x: ' '.join([word for word in x.split() if word not in stopwords]))\n",
    "    #stem\n",
    "    df['text'] = df['text'].apply(lambda x: ' '.join([ps.stem(word) for word in x.split()]))\n",
    "    return df\n",
    "\n",
    "df=clean(train)\n",
    "df = df.drop_duplicates(subset='text')\n",
    "X = df['text']\n",
    "y = df['target']\n",
    "\n",
    "X_test = clean(test)['text']\n",
    "y_test = test['target']"
   ]
  },
  {
   "cell_type": "markdown",
   "metadata": {},
   "source": [
    "Now the tweets look like this: "
   ]
  },
  {
   "cell_type": "code",
   "execution_count": 7,
   "metadata": {},
   "outputs": [
    {
     "data": {
      "text/html": [
       "<div>\n",
       "<style scoped>\n",
       "    .dataframe tbody tr th:only-of-type {\n",
       "        vertical-align: middle;\n",
       "    }\n",
       "\n",
       "    .dataframe tbody tr th {\n",
       "        vertical-align: top;\n",
       "    }\n",
       "\n",
       "    .dataframe thead th {\n",
       "        text-align: right;\n",
       "    }\n",
       "</style>\n",
       "<table border=\"1\" class=\"dataframe\">\n",
       "  <thead>\n",
       "    <tr style=\"text-align: right;\">\n",
       "      <th></th>\n",
       "      <th>text</th>\n",
       "    </tr>\n",
       "    <tr>\n",
       "      <th>id</th>\n",
       "      <th></th>\n",
       "    </tr>\n",
       "  </thead>\n",
       "  <tbody>\n",
       "    <tr>\n",
       "      <th>1</th>\n",
       "      <td>deed reason earthquak may allah forgiv us</td>\n",
       "    </tr>\n",
       "    <tr>\n",
       "      <th>4</th>\n",
       "      <td>forest fire near la rong sask canada</td>\n",
       "    </tr>\n",
       "    <tr>\n",
       "      <th>5</th>\n",
       "      <td>resid ask shelter place notifi offic evacu she...</td>\n",
       "    </tr>\n",
       "    <tr>\n",
       "      <th>6</th>\n",
       "      <td>peopl receiv wildfir evacu order california</td>\n",
       "    </tr>\n",
       "    <tr>\n",
       "      <th>7</th>\n",
       "      <td>got sent photo rubi alaska smoke wildfir pour ...</td>\n",
       "    </tr>\n",
       "    <tr>\n",
       "      <th>8</th>\n",
       "      <td>rockyfir updat california hwi close direct due...</td>\n",
       "    </tr>\n",
       "    <tr>\n",
       "      <th>10</th>\n",
       "      <td>flood disast heavi rain caus flash flood stree...</td>\n",
       "    </tr>\n",
       "    <tr>\n",
       "      <th>13</th>\n",
       "      <td>top hill see fire wood</td>\n",
       "    </tr>\n",
       "    <tr>\n",
       "      <th>14</th>\n",
       "      <td>emerg evacu happen build across street</td>\n",
       "    </tr>\n",
       "    <tr>\n",
       "      <th>15</th>\n",
       "      <td>afraid tornado come area</td>\n",
       "    </tr>\n",
       "  </tbody>\n",
       "</table>\n",
       "</div>"
      ],
      "text/plain": [
       "                                                 text\n",
       "id                                                   \n",
       "1           deed reason earthquak may allah forgiv us\n",
       "4                forest fire near la rong sask canada\n",
       "5   resid ask shelter place notifi offic evacu she...\n",
       "6         peopl receiv wildfir evacu order california\n",
       "7   got sent photo rubi alaska smoke wildfir pour ...\n",
       "8   rockyfir updat california hwi close direct due...\n",
       "10  flood disast heavi rain caus flash flood stree...\n",
       "13                             top hill see fire wood\n",
       "14             emerg evacu happen build across street\n",
       "15                           afraid tornado come area"
      ]
     },
     "execution_count": 7,
     "metadata": {},
     "output_type": "execute_result"
    }
   ],
   "source": [
    "df.drop(['keyword', 'location', 'target'], axis=1).head(10)"
   ]
  },
  {
   "cell_type": "markdown",
   "metadata": {},
   "source": [
    "To get some overview over the tweet text, we keep track of word appearances. For this, we count how often a (stemmed) word occurs in a harmless or disaster tweet and store the count in a new dataframe. \n",
    "\n"
   ]
  },
  {
   "cell_type": "code",
   "execution_count": 8,
   "metadata": {},
   "outputs": [],
   "source": [
    "from collections import defaultdict\n",
    "\n",
    "freq_dict_0 = defaultdict(int)\n",
    "for row in df['text'][df['target']==0]:\n",
    "    for word in row.split():\n",
    "        freq_dict_0[word]+=1\n",
    "        \n",
    "freq_dict_1 = defaultdict(int)\n",
    "for row in df['text'][df['target']==1]:\n",
    "    for word in row.split():\n",
    "        freq_dict_1[word]+=1\n",
    "        \n",
    "vocabulary = set(freq_dict_0.keys()).union(set(freq_dict_1.keys()))\n",
    "\n",
    "wordcount = pd.DataFrame(list(vocabulary), columns= [\"word\"])\n",
    "wordcount['disaster'] = wordcount['word'].apply(lambda x: freq_dict_1[x])\n",
    "wordcount['harmless'] = wordcount['word'].apply(lambda x: freq_dict_0[x])\n",
    "wordcount['total_count'] = wordcount['disaster']+wordcount['harmless']\n",
    "wordcount.sort_values(by='total_count', ascending=False, inplace=True)\n",
    "wordcount.set_index('word', inplace=True)\n"
   ]
  },
  {
   "cell_type": "code",
   "execution_count": 9,
   "metadata": {},
   "outputs": [
    {
     "data": {
      "text/html": [
       "<div>\n",
       "<style scoped>\n",
       "    .dataframe tbody tr th:only-of-type {\n",
       "        vertical-align: middle;\n",
       "    }\n",
       "\n",
       "    .dataframe tbody tr th {\n",
       "        vertical-align: top;\n",
       "    }\n",
       "\n",
       "    .dataframe thead th {\n",
       "        text-align: right;\n",
       "    }\n",
       "</style>\n",
       "<table border=\"1\" class=\"dataframe\">\n",
       "  <thead>\n",
       "    <tr style=\"text-align: right;\">\n",
       "      <th></th>\n",
       "      <th>disaster</th>\n",
       "      <th>harmless</th>\n",
       "      <th>total_count</th>\n",
       "    </tr>\n",
       "    <tr>\n",
       "      <th>word</th>\n",
       "      <th></th>\n",
       "      <th></th>\n",
       "      <th></th>\n",
       "    </tr>\n",
       "  </thead>\n",
       "  <tbody>\n",
       "    <tr>\n",
       "      <th>fire</th>\n",
       "      <td>416</td>\n",
       "      <td>146</td>\n",
       "      <td>562</td>\n",
       "    </tr>\n",
       "    <tr>\n",
       "      <th>like</th>\n",
       "      <td>102</td>\n",
       "      <td>308</td>\n",
       "      <td>410</td>\n",
       "    </tr>\n",
       "    <tr>\n",
       "      <th>new</th>\n",
       "      <td>133</td>\n",
       "      <td>256</td>\n",
       "      <td>389</td>\n",
       "    </tr>\n",
       "    <tr>\n",
       "      <th>bomb</th>\n",
       "      <td>279</td>\n",
       "      <td>96</td>\n",
       "      <td>375</td>\n",
       "    </tr>\n",
       "    <tr>\n",
       "      <th>burn</th>\n",
       "      <td>148</td>\n",
       "      <td>171</td>\n",
       "      <td>319</td>\n",
       "    </tr>\n",
       "    <tr>\n",
       "      <th>...</th>\n",
       "      <td>...</td>\n",
       "      <td>...</td>\n",
       "      <td>...</td>\n",
       "    </tr>\n",
       "    <tr>\n",
       "      <th>unwarr</th>\n",
       "      <td>0</td>\n",
       "      <td>1</td>\n",
       "      <td>1</td>\n",
       "    </tr>\n",
       "    <tr>\n",
       "      <th>utahgrizz</th>\n",
       "      <td>0</td>\n",
       "      <td>1</td>\n",
       "      <td>1</td>\n",
       "    </tr>\n",
       "    <tr>\n",
       "      <th>mlg</th>\n",
       "      <td>0</td>\n",
       "      <td>1</td>\n",
       "      <td>1</td>\n",
       "    </tr>\n",
       "    <tr>\n",
       "      <th>albertan</th>\n",
       "      <td>0</td>\n",
       "      <td>1</td>\n",
       "      <td>1</td>\n",
       "    </tr>\n",
       "    <tr>\n",
       "      <th>huffpostuk</th>\n",
       "      <td>0</td>\n",
       "      <td>1</td>\n",
       "      <td>1</td>\n",
       "    </tr>\n",
       "  </tbody>\n",
       "</table>\n",
       "<p>14617 rows × 3 columns</p>\n",
       "</div>"
      ],
      "text/plain": [
       "            disaster  harmless  total_count\n",
       "word                                       \n",
       "fire             416       146          562\n",
       "like             102       308          410\n",
       "new              133       256          389\n",
       "bomb             279        96          375\n",
       "burn             148       171          319\n",
       "...              ...       ...          ...\n",
       "unwarr             0         1            1\n",
       "utahgrizz          0         1            1\n",
       "mlg                0         1            1\n",
       "albertan           0         1            1\n",
       "huffpostuk         0         1            1\n",
       "\n",
       "[14617 rows x 3 columns]"
      ]
     },
     "execution_count": 9,
     "metadata": {},
     "output_type": "execute_result"
    }
   ],
   "source": [
    "wordcount"
   ]
  },
  {
   "cell_type": "markdown",
   "metadata": {},
   "source": [
    "Let's see what the most frequent words in harmless vs. disaster tweets are."
   ]
  },
  {
   "cell_type": "code",
   "execution_count": 10,
   "metadata": {},
   "outputs": [
    {
     "data": {
      "image/png": "[encoded data removed]",
      "text/plain": [
       "<Figure size 936x576 with 1 Axes>"
      ]
     },
     "metadata": {
      "needs_background": "light"
     },
     "output_type": "display_data"
    }
   ],
   "source": [
    "plt.figure(figsize=(13,8))\n",
    "sns.barplot(x=wordcount['disaster'].sort_values(ascending=False).iloc[:30], y=wordcount.sort_values(by='disaster', ascending=False).index[:30])\n",
    "plt.xlabel('Count')\n",
    "plt.ylabel('Word')\n",
    "plt.title('30 most common words in disaster tweets');"
   ]
  },
  {
   "cell_type": "code",
   "execution_count": 11,
   "metadata": {},
   "outputs": [
    {
     "data": {
      "image/png": "[encoded data removed]",
      "text/plain": [
       "<Figure size 936x576 with 1 Axes>"
      ]
     },
     "metadata": {
      "needs_background": "light"
     },
     "output_type": "display_data"
    }
   ],
   "source": [
    "plt.figure(figsize=(13,8))\n",
    "sns.barplot(x=wordcount['harmless'].sort_values(ascending=False).iloc[:30], y=wordcount.sort_values(by='harmless', ascending=False).index[:30])\n",
    "plt.xlabel('Count')\n",
    "plt.ylabel('Word')\n",
    "plt.title('30 most common words in harmless tweets');"
   ]
  },
  {
   "cell_type": "markdown",
   "metadata": {},
   "source": [
    "We sort out all word that occur less than five times in the training set. This significantly reduces the vocabulary. "
   ]
  },
  {
   "cell_type": "code",
   "execution_count": 12,
   "metadata": {},
   "outputs": [
    {
     "name": "stdout",
     "output_type": "stream",
     "text": [
      "Length of old vocabulary: 14617\n",
      "Length of new vocabulary: 2681\n"
     ]
    }
   ],
   "source": [
    "minimal_occurrences = 5\n",
    "\n",
    "X=X.apply(lambda x: ' '.join([word for word in x.split() if wordcount['total_count'][word]>=minimal_occurrences]))\n",
    "X=X[X.str.split().apply(len)>0]\n",
    "y=y[X.index]\n",
    "wordcount = wordcount[wordcount['total_count']>=minimal_occurrences]\n",
    "new_vocabulary = set(wordcount.index)\n",
    "\n",
    "print('Length of old vocabulary: {}'.format(len(vocabulary)))\n",
    "print('Length of new vocabulary: {}'.format(len(new_vocabulary)))"
   ]
  },
  {
   "cell_type": "markdown",
   "metadata": {},
   "source": [
    "Now it's time to vectorize. In this notebook, we use the count vectorizer, which encodes each tweet as a bag-of-word vector. The entry of the vector at each word is the number of occurrences of this word in the text. \n",
    "\n",
    "There is also a Tf-idf vectorizer, which normalizes the vector entries by the total number of tweets in which the word occurs (inverse document frequency). This reduces the influence of very frequent words on the model and seems to perform slightly better in the task at hand.\n",
    "\n",
    "We can adjust the n-gram range to include extra dimensions for word tuples. For example, if ngram_range=(1,2), then the word vectors give occurences of the words themselves as well as pairs of words (bigrams)."
   ]
  },
  {
   "cell_type": "code",
   "execution_count": 13,
   "metadata": {},
   "outputs": [
    {
     "data": {
      "text/plain": [
       "(7251, 44402)"
      ]
     },
     "execution_count": 13,
     "metadata": {},
     "output_type": "execute_result"
    }
   ],
   "source": [
    "from sklearn.feature_extraction.text import CountVectorizer, TfidfVectorizer\n",
    "\n",
    "vectorizer = CountVectorizer(ngram_range=(1,2))\n",
    "\n",
    "train_vectors = vectorizer.fit_transform(X)\n",
    "test_vectors = vectorizer.transform(X_test)\n",
    "\n",
    "train_vectors.shape"
   ]
  },
  {
   "cell_type": "markdown",
   "metadata": {},
   "source": [
    "Having vectorized the tweets, we can project the vectors down to two dimensions using singular value decomposition (SVD). \n",
    "We plot the two-dimensional projections of harmless tweets as yellow dots and of disaster tweets as red dots. Unfortunately (or expectedly), the red and yellow dots don't seem to be very well separated.  "
   ]
  },
  {
   "cell_type": "code",
   "execution_count": 14,
   "metadata": {},
   "outputs": [
    {
     "data": {
      "image/png": "[encoded data removed]",
      "text/plain": [
       "<Figure size 936x576 with 1 Axes>"
      ]
     },
     "metadata": {
      "needs_background": "light"
     },
     "output_type": "display_data"
    }
   ],
   "source": [
    "from sklearn.decomposition import TruncatedSVD\n",
    "import matplotlib.patches as mpatches\n",
    "\n",
    "plt.figure(figsize=(13,8))\n",
    "svd = TruncatedSVD(n_components=2)\n",
    "projected_train_vectors = svd.fit_transform(train_vectors)\n",
    "sns.scatterplot(x=projected_train_vectors[:,0], y=projected_train_vectors[:,1], hue=y, palette={0:'yellow', 1:'red'}, legend=False)\n",
    "red_patch = mpatches.Patch(color='red', label='Disaster tweets')\n",
    "yellow_patch = mpatches.Patch(color='yellow', label='Harmless tweets')\n",
    "plt.legend(handles=[red_patch, yellow_patch])\n",
    "plt.title('2D-projections of vectorized tweets');"
   ]
  },
  {
   "cell_type": "markdown",
   "metadata": {},
   "source": [
    "After testing several classifiers, we decide to use a stochastic gradient descent classifier for our NLP model. We do a grid search over the hyperparameters 'alpha', which is the strengh of the regularization term, and 'loss', which specifies the loss function used by the algorithm. \n",
    "\n",
    "The loss functions that we consider are:\n",
    "- 'hinge': Corresponds to a linear SVM.\n",
    "- 'log': Corresponds to logistic regression.\n",
    "\n",
    "The performance measure used in the competition is F1-score, which is the harmonic mean of precision and recall. The precision is the percentage of samples classified as positive among all positive samples and the recall is the percentage of positive samples among all samples classified as positive. \n",
    "\n",
    "$$\n",
    "F_1 = \\frac{2}{\\frac{1}{P}+\\frac{1}{R}} = \\frac{2\\cdot\\text{true positives}}{2\\cdot\\text{true positives} + \\text{false positives} + \\text{false negatives}},\n",
    "$$\n",
    "where \n",
    "$$\n",
    "P = \\frac{\\text{true positives}}{\\text{true positives}+\\text{false positives}}, \\qquad R=\\frac{\\text{true positives}}{\\text{true positives}+\\text{false negatives}}\n",
    "$$\n",
    "\n",
    "The the grid search will run a cross validation for every selection of parameters and store the classifier with the best average f1-score on the validation sets."
   ]
  },
  {
   "cell_type": "code",
   "execution_count": 15,
   "metadata": {},
   "outputs": [],
   "source": [
    "from sklearn.linear_model import SGDClassifier\n",
    "from sklearn.model_selection import GridSearchCV\n",
    "from sklearn.model_selection import StratifiedKFold\n",
    "from sklearn.metrics import f1_score, make_scorer\n",
    "\n",
    "\n",
    "model = SGDClassifier()\n",
    "\n",
    "parameters = {\n",
    "'loss': ['hinge', 'log'], \n",
    "'alpha': [10**e for e in range(-5,5)]\n",
    "                    }\n",
    "#This creates a scorer according to which the grid search will evaluate performance.\n",
    "f1_scorer = make_scorer(f1_score)\n",
    "\n",
    "#This creates a cross validation object for the grid search. Shuffling is important here, since the training data is sorted. \n",
    "cross_validation = StratifiedKFold(n_splits=5, shuffle=True)\n",
    "\n",
    "grid_search = GridSearchCV(model, parameters, scoring=f1_scorer, verbose=0, cv=cross_validation);\n",
    "grid_search.fit(train_vectors, y);\n"
   ]
  },
  {
   "cell_type": "code",
   "execution_count": 16,
   "metadata": {},
   "outputs": [
    {
     "name": "stdout",
     "output_type": "stream",
     "text": [
      "Parameters for best SDG-classifier: {'alpha': 0.001, 'loss': 'log'}\n",
      "F1-score for best SDG-classifier in cross validation: 74.18%\n"
     ]
    }
   ],
   "source": [
    "print('Parameters for best SDG-classifier: {}'.format( grid_search.best_params_))\n",
    "print('F1-score for best SDG-classifier in cross validation: {}%'.format(round(100*grid_search.best_score_, 2)))"
   ]
  },
  {
   "cell_type": "markdown",
   "metadata": {},
   "source": [
    "Hence we choose logistic regression with regularization parameter $\\alpha=0.001$ is our model. Let's see how it performs on the test set."
   ]
  },
  {
   "cell_type": "code",
   "execution_count": 17,
   "metadata": {},
   "outputs": [
    {
     "name": "stdout",
     "output_type": "stream",
     "text": [
      "F1-score on the test set: 73.63%\n"
     ]
    }
   ],
   "source": [
    "clf = grid_search.best_estimator_\n",
    "y_pred = clf.predict(test_vectors)\n",
    "print('F1-score on the test set: {}%'.format(round(100*f1_score(y_test, y_pred),2)))\n"
   ]
  },
  {
   "cell_type": "markdown",
   "metadata": {},
   "source": [
    "The F1-score on the test set is slightly less, but still comparable. "
   ]
  },
  {
   "cell_type": "code",
   "execution_count": null,
   "metadata": {},
   "outputs": [],
   "source": []
  }
 ],
 "metadata": {
  "kernelspec": {
   "display_name": "Python 3",
   "language": "python",
   "name": "python3"
  },
  "language_info": {
   "codemirror_mode": {
    "name": "ipython",
    "version": 3
   },
   "file_extension": ".py",
   "mimetype": "text/x-python",
   "name": "python",
   "nbconvert_exporter": "python",
   "pygments_lexer": "ipython3",
   "version": "3.7.5"
  }
 },
 "nbformat": 4,
 "nbformat_minor": 2
}
